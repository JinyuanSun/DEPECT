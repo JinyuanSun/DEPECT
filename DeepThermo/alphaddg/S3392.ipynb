{
 "cells": [
  {
   "cell_type": "code",
   "execution_count": 37,
   "metadata": {},
   "outputs": [
    {
     "data": {
      "text/html": [
       "<div>\n",
       "<style scoped>\n",
       "    .dataframe tbody tr th:only-of-type {\n",
       "        vertical-align: middle;\n",
       "    }\n",
       "\n",
       "    .dataframe tbody tr th {\n",
       "        vertical-align: top;\n",
       "    }\n",
       "\n",
       "    .dataframe thead th {\n",
       "        text-align: right;\n",
       "    }\n",
       "</style>\n",
       "<table border=\"1\" class=\"dataframe\">\n",
       "  <thead>\n",
       "    <tr style=\"text-align: right;\">\n",
       "      <th></th>\n",
       "      <th>id</th>\n",
       "      <th>0</th>\n",
       "      <th>1</th>\n",
       "      <th>2</th>\n",
       "      <th>3</th>\n",
       "      <th>4</th>\n",
       "      <th>5</th>\n",
       "      <th>6</th>\n",
       "      <th>7</th>\n",
       "      <th>8</th>\n",
       "      <th>...</th>\n",
       "      <th>25</th>\n",
       "      <th>26</th>\n",
       "      <th>27</th>\n",
       "      <th>28</th>\n",
       "      <th>29</th>\n",
       "      <th>30</th>\n",
       "      <th>31</th>\n",
       "      <th>32</th>\n",
       "      <th>33</th>\n",
       "      <th>34</th>\n",
       "    </tr>\n",
       "  </thead>\n",
       "  <tbody>\n",
       "    <tr>\n",
       "      <th>0</th>\n",
       "      <td>0</td>\n",
       "      <td>1A5E</td>\n",
       "      <td>L_121_R</td>\n",
       "      <td>0</td>\n",
       "      <td>0</td>\n",
       "      <td>0</td>\n",
       "      <td>1</td>\n",
       "      <td>0</td>\n",
       "      <td>0</td>\n",
       "      <td>0</td>\n",
       "      <td>...</td>\n",
       "      <td>-2.50</td>\n",
       "      <td>0.0</td>\n",
       "      <td>1.0</td>\n",
       "      <td>9.68</td>\n",
       "      <td>5.78</td>\n",
       "      <td>0.430041</td>\n",
       "      <td>0.548504</td>\n",
       "      <td>0.061062</td>\n",
       "      <td>0.061062</td>\n",
       "      <td>0.66</td>\n",
       "    </tr>\n",
       "    <tr>\n",
       "      <th>1</th>\n",
       "      <td>1</td>\n",
       "      <td>1A5E</td>\n",
       "      <td>L_37_S</td>\n",
       "      <td>0</td>\n",
       "      <td>0</td>\n",
       "      <td>0</td>\n",
       "      <td>0</td>\n",
       "      <td>0</td>\n",
       "      <td>0</td>\n",
       "      <td>0</td>\n",
       "      <td>...</td>\n",
       "      <td>-0.18</td>\n",
       "      <td>0.0</td>\n",
       "      <td>0.0</td>\n",
       "      <td>9.68</td>\n",
       "      <td>7.14</td>\n",
       "      <td>0.118309</td>\n",
       "      <td>0.892136</td>\n",
       "      <td>0.030973</td>\n",
       "      <td>0.070796</td>\n",
       "      <td>0.71</td>\n",
       "    </tr>\n",
       "    <tr>\n",
       "      <th>2</th>\n",
       "      <td>2</td>\n",
       "      <td>1A5E</td>\n",
       "      <td>W_15_D</td>\n",
       "      <td>0</td>\n",
       "      <td>-1</td>\n",
       "      <td>0</td>\n",
       "      <td>0</td>\n",
       "      <td>0</td>\n",
       "      <td>0</td>\n",
       "      <td>0</td>\n",
       "      <td>...</td>\n",
       "      <td>-0.90</td>\n",
       "      <td>0.0</td>\n",
       "      <td>-1.0</td>\n",
       "      <td>1.25</td>\n",
       "      <td>5.49</td>\n",
       "      <td>-0.348580</td>\n",
       "      <td>-0.444742</td>\n",
       "      <td>0.009735</td>\n",
       "      <td>0.007965</td>\n",
       "      <td>0.17</td>\n",
       "    </tr>\n",
       "    <tr>\n",
       "      <th>3</th>\n",
       "      <td>3</td>\n",
       "      <td>1A5E</td>\n",
       "      <td>D_74_N</td>\n",
       "      <td>0</td>\n",
       "      <td>0</td>\n",
       "      <td>0</td>\n",
       "      <td>0</td>\n",
       "      <td>0</td>\n",
       "      <td>0</td>\n",
       "      <td>0</td>\n",
       "      <td>...</td>\n",
       "      <td>-0.78</td>\n",
       "      <td>-1.0</td>\n",
       "      <td>0.0</td>\n",
       "      <td>5.49</td>\n",
       "      <td>3.93</td>\n",
       "      <td>1.426419</td>\n",
       "      <td>0.907021</td>\n",
       "      <td>0.165487</td>\n",
       "      <td>0.089381</td>\n",
       "      <td>-2.00</td>\n",
       "    </tr>\n",
       "    <tr>\n",
       "      <th>4</th>\n",
       "      <td>4</td>\n",
       "      <td>1A5E</td>\n",
       "      <td>P_81_L</td>\n",
       "      <td>0</td>\n",
       "      <td>0</td>\n",
       "      <td>0</td>\n",
       "      <td>0</td>\n",
       "      <td>0</td>\n",
       "      <td>0</td>\n",
       "      <td>0</td>\n",
       "      <td>...</td>\n",
       "      <td>1.10</td>\n",
       "      <td>0.0</td>\n",
       "      <td>0.0</td>\n",
       "      <td>5.02</td>\n",
       "      <td>9.68</td>\n",
       "      <td>1.845905</td>\n",
       "      <td>1.250311</td>\n",
       "      <td>0.225664</td>\n",
       "      <td>0.129204</td>\n",
       "      <td>0.00</td>\n",
       "    </tr>\n",
       "  </tbody>\n",
       "</table>\n",
       "<p>5 rows × 36 columns</p>\n",
       "</div>"
      ],
      "text/plain": [
       "   id     0        1  2  3  4  5  6  7  8  ...    25   26   27    28    29  \\\n",
       "0   0  1A5E  L_121_R  0  0  0  1  0  0  0  ... -2.50  0.0  1.0  9.68  5.78   \n",
       "1   1  1A5E   L_37_S  0  0  0  0  0  0  0  ... -0.18  0.0  0.0  9.68  7.14   \n",
       "2   2  1A5E   W_15_D  0 -1  0  0  0  0  0  ... -0.90  0.0 -1.0  1.25  5.49   \n",
       "3   3  1A5E   D_74_N  0  0  0  0  0  0  0  ... -0.78 -1.0  0.0  5.49  3.93   \n",
       "4   4  1A5E   P_81_L  0  0  0  0  0  0  0  ...  1.10  0.0  0.0  5.02  9.68   \n",
       "\n",
       "         30        31        32        33    34  \n",
       "0  0.430041  0.548504  0.061062  0.061062  0.66  \n",
       "1  0.118309  0.892136  0.030973  0.070796  0.71  \n",
       "2 -0.348580 -0.444742  0.009735  0.007965  0.17  \n",
       "3  1.426419  0.907021  0.165487  0.089381 -2.00  \n",
       "4  1.845905  1.250311  0.225664  0.129204  0.00  \n",
       "\n",
       "[5 rows x 36 columns]"
      ]
     },
     "execution_count": 37,
     "metadata": {},
     "output_type": "execute_result"
    }
   ],
   "source": [
    "import tensorflow as tf\n",
    "import pandas as pd\n",
    "df = pd.read_csv(\"S3392.csv\")\n",
    "df.head()"
   ]
  },
  {
   "cell_type": "code",
   "execution_count": 68,
   "metadata": {},
   "outputs": [],
   "source": [
    "df_data = df.iloc[:,23:35].values\n",
    "df_target = df['34'].values"
   ]
  },
  {
   "cell_type": "code",
   "execution_count": 69,
   "metadata": {},
   "outputs": [
    {
     "data": {
      "text/plain": [
       "array([ 1.66700000e+02,  1.73400000e+02,  1.10000000e+00, -2.50000000e+00,\n",
       "        0.00000000e+00,  1.00000000e+00,  9.68000000e+00,  5.78000000e+00,\n",
       "        4.30041430e-01,  5.48503760e-01,  6.10619469e-02,  6.10619469e-02])"
      ]
     },
     "execution_count": 69,
     "metadata": {},
     "output_type": "execute_result"
    }
   ],
   "source": [
    "df_data[0]"
   ]
  },
  {
   "cell_type": "code",
   "execution_count": 70,
   "metadata": {},
   "outputs": [],
   "source": [
    "from sklearn.model_selection import train_test_split\n",
    "\n",
    "train_data, test_data, train_targets, test_targets = train_test_split(df_data, df_target, test_size=0.2, random_state=5)"
   ]
  },
  {
   "cell_type": "code",
   "execution_count": 71,
   "metadata": {},
   "outputs": [],
   "source": [
    "import numpy as np\n",
    "mean = train_data.mean(axis=0)\n",
    "train_data -= mean\n",
    "std = train_data.std(axis=0)\n",
    "train_data /= std\n",
    "\n",
    "test_data -= mean\n",
    "test_data /= std"
   ]
  },
  {
   "cell_type": "code",
   "execution_count": 72,
   "metadata": {},
   "outputs": [],
   "source": [
    "from keras import models\n",
    "from keras import layers\n",
    "\n",
    "def build_model():\n",
    "    # Because we will need to instantiate\n",
    "    # the same model multiple times,\n",
    "    # we use a function to construct it.\n",
    "    model = models.Sequential()\n",
    "    model.add(layers.Dense(12, activation='relu',\n",
    "                           input_shape=(train_data.shape[1],)))\n",
    "    model.add(layers.Dense(6, activation='relu'))\n",
    "    model.add(layers.Dense(1))\n",
    "    model.compile(optimizer='adam', loss='mae', metrics=['mae'])\n",
    "    return model"
   ]
  },
  {
   "cell_type": "code",
   "execution_count": 73,
   "metadata": {},
   "outputs": [
    {
     "name": "stdout",
     "output_type": "stream",
     "text": [
      "processing fold # 0\n",
      "processing fold # 1\n",
      "processing fold # 2\n",
      "processing fold # 3\n",
      "processing fold # 4\n",
      "processing fold # 5\n",
      "processing fold # 6\n",
      "processing fold # 7\n",
      "processing fold # 8\n",
      "processing fold # 9\n"
     ]
    }
   ],
   "source": [
    "import numpy as np\n",
    "\n",
    "k = 10\n",
    "num_val_samples = len(train_data) // k\n",
    "num_epochs = 500\n",
    "all_scores = []\n",
    "for i in range(k):\n",
    "    print('processing fold #', i)\n",
    "    # Prepare the validation data: data from partition # k\n",
    "    val_data = train_data[i * num_val_samples: (i + 1) * num_val_samples]\n",
    "    val_targets = train_targets[i * num_val_samples: (i + 1) * num_val_samples]\n",
    "\n",
    "    # Prepare the training data: data from all other partitions\n",
    "    partial_train_data = np.concatenate(\n",
    "        [train_data[:i * num_val_samples],\n",
    "         train_data[(i + 1) * num_val_samples:]],\n",
    "        axis=0)\n",
    "    partial_train_targets = np.concatenate(\n",
    "        [train_targets[:i * num_val_samples],\n",
    "         train_targets[(i + 1) * num_val_samples:]],\n",
    "        axis=0)\n",
    "\n",
    "    # Build the Keras model (already compiled)\n",
    "    model = build_model()\n",
    "    # Train the model (in silent mode, verbose=0)\n",
    "    model.fit(partial_train_data, partial_train_targets,\n",
    "              epochs=num_epochs, batch_size=128, verbose=0)\n",
    "    # Evaluate the model on the validation data\n",
    "    val_mse, val_mae = model.evaluate(val_data, val_targets, verbose=0)\n",
    "    all_scores.append(val_mae)"
   ]
  },
  {
   "cell_type": "code",
   "execution_count": 74,
   "metadata": {},
   "outputs": [
    {
     "data": {
      "text/plain": [
       "[1.0760722160339355,\n",
       " 1.069563865661621,\n",
       " 1.0419089794158936,\n",
       " 1.0574804544448853,\n",
       " 1.1272143125534058,\n",
       " 1.0804009437561035,\n",
       " 0.9561892747879028,\n",
       " 1.0607417821884155,\n",
       " 0.9427245259284973,\n",
       " 1.0894931554794312]"
      ]
     },
     "execution_count": 74,
     "metadata": {},
     "output_type": "execute_result"
    }
   ],
   "source": [
    "all_scores"
   ]
  },
  {
   "cell_type": "code",
   "execution_count": 75,
   "metadata": {},
   "outputs": [
    {
     "data": {
      "text/plain": [
       "1.0501789510250092"
      ]
     },
     "execution_count": 75,
     "metadata": {},
     "output_type": "execute_result"
    }
   ],
   "source": [
    "np.mean(all_scores)"
   ]
  },
  {
   "cell_type": "code",
   "execution_count": 76,
   "metadata": {},
   "outputs": [],
   "source": [
    "from keras import backend as K\n",
    "\n",
    "# Some memory clean-up\n",
    "K.clear_session()"
   ]
  },
  {
   "cell_type": "code",
   "execution_count": 77,
   "metadata": {},
   "outputs": [
    {
     "name": "stdout",
     "output_type": "stream",
     "text": [
      "processing fold # 0\n",
      "processing fold # 1\n",
      "processing fold # 2\n",
      "processing fold # 3\n",
      "processing fold # 4\n",
      "processing fold # 5\n",
      "processing fold # 6\n",
      "processing fold # 7\n",
      "processing fold # 8\n",
      "processing fold # 9\n"
     ]
    }
   ],
   "source": [
    "num_epochs = 500\n",
    "all_mae_histories = []\n",
    "for i in range(k):\n",
    "    print('processing fold #', i)\n",
    "    # Prepare the validation data: data from partition # k\n",
    "    val_data = train_data[i * num_val_samples: (i + 1) * num_val_samples]\n",
    "    val_targets = train_targets[i * num_val_samples: (i + 1) * num_val_samples]\n",
    "\n",
    "    # Prepare the training data: data from all other partitions\n",
    "    partial_train_data = np.concatenate(\n",
    "        [train_data[:i * num_val_samples],\n",
    "         train_data[(i + 1) * num_val_samples:]],\n",
    "        axis=0)\n",
    "    partial_train_targets = np.concatenate(\n",
    "        [train_targets[:i * num_val_samples],\n",
    "         train_targets[(i + 1) * num_val_samples:]],\n",
    "        axis=0)\n",
    "\n",
    "    # Build the Keras model (already compiled)\n",
    "    model = build_model()\n",
    "    # Train the model (in silent mode, verbose=0)\n",
    "    history = model.fit(partial_train_data, partial_train_targets,\n",
    "                        validation_data=(val_data, val_targets),\n",
    "                        epochs=num_epochs, batch_size=128, verbose=0)\n",
    "    mae_history = history.history['val_mae']\n",
    "    all_mae_histories.append(mae_history)"
   ]
  },
  {
   "cell_type": "code",
   "execution_count": 78,
   "metadata": {},
   "outputs": [],
   "source": [
    "\n",
    "\n",
    "average_mae_history = [\n",
    "    np.mean([x[i] for x in all_mae_histories]) for i in range(num_epochs)]\n",
    "\n"
   ]
  },
  {
   "cell_type": "code",
   "execution_count": 79,
   "metadata": {},
   "outputs": [
    {
     "data": {
      "image/png": "[encoded data removed]",
      "text/plain": [
       "<Figure size 432x288 with 1 Axes>"
      ]
     },
     "metadata": {
      "needs_background": "light"
     },
     "output_type": "display_data"
    }
   ],
   "source": [
    "import matplotlib.pyplot as plt\n",
    "\n",
    "plt.plot(range(1, len(average_mae_history) + 1), average_mae_history)\n",
    "plt.xlabel('Epochs')\n",
    "plt.ylabel('Validation MAE')\n",
    "plt.show()"
   ]
  },
  {
   "cell_type": "code",
   "execution_count": 178,
   "metadata": {},
   "outputs": [
    {
     "data": {
      "image/png": "[encoded data removed]",
      "text/plain": [
       "<Figure size 360x360 with 1 Axes>"
      ]
     },
     "metadata": {},
     "output_type": "display_data"
    }
   ],
   "source": [
    "def smooth_curve(points, factor=0.9):\n",
    "  smoothed_points = []\n",
    "  for point in points:\n",
    "    if smoothed_points:\n",
    "      previous = smoothed_points[-1]\n",
    "      smoothed_points.append(previous * factor + point * (1 - factor))\n",
    "    else:\n",
    "      smoothed_points.append(point)\n",
    "  return smoothed_points\n",
    "\n",
    "smooth_mae_history = smooth_curve(average_mae_history[40:200])\n",
    "\n",
    "plt.plot(range(1, len(smooth_mae_history) + 1), smooth_mae_history)\n",
    "plt.xlabel('Epochs')\n",
    "plt.ylabel('Validation MAE')\n",
    "plt.show()"
   ]
  },
  {
   "cell_type": "code",
   "execution_count": 189,
   "metadata": {},
   "outputs": [
    {
     "name": "stdout",
     "output_type": "stream",
     "text": [
      "679/679 [==============================] - 0s 63us/step\n"
     ]
    }
   ],
   "source": [
    "test_data = np.nan_to_num(test_data, copy=True, nan=0.0, posinf=None, neginf=None)\n",
    "#import random\n",
    "#random.seed(2016)\n",
    "# Get a fresh, compiled model.\n",
    "model = build_model()\n",
    "# Train it on the entirety of the data.\n",
    "model.fit(train_data, train_targets,\n",
    "          epochs=70, batch_size=128, verbose=0)\n",
    "test_mse_score, test_mae_score = model.evaluate(test_data, test_targets)\n",
    "\n"
   ]
  },
  {
   "cell_type": "code",
   "execution_count": 190,
   "metadata": {},
   "outputs": [
    {
     "data": {
      "text/plain": [
       "1.0414258241653442"
      ]
     },
     "execution_count": 190,
     "metadata": {},
     "output_type": "execute_result"
    }
   ],
   "source": [
    "test_mae_score"
   ]
  },
  {
   "cell_type": "code",
   "execution_count": 191,
   "metadata": {},
   "outputs": [
    {
     "data": {
      "text/plain": [
       "1.0205026880818895"
      ]
     },
     "execution_count": 191,
     "metadata": {},
     "output_type": "execute_result"
    }
   ],
   "source": [
    "np.sqrt(test_mse_score)"
   ]
  },
  {
   "cell_type": "code",
   "execution_count": 192,
   "metadata": {},
   "outputs": [
    {
     "data": {
      "text/plain": [
       "0.5557566772162459"
      ]
     },
     "execution_count": 192,
     "metadata": {},
     "output_type": "execute_result"
    }
   ],
   "source": [
    "pr = list(model.predict(test_data))\n",
    "lst_pr = []\n",
    "for x in pr:\n",
    "    lst_pr.append(float(x))\n",
    "np.corrcoef(lst_pr,test_targets)[0][1]"
   ]
  },
  {
   "cell_type": "code",
   "execution_count": 148,
   "metadata": {},
   "outputs": [
    {
     "data": {
      "text/plain": [
       "Text(0.5, 0, 'measured ddG')"
      ]
     },
     "execution_count": 148,
     "metadata": {},
     "output_type": "execute_result"
    },
    {
     "data": {
      "image/png": "[encoded data removed]",
      "text/plain": [
       "<Figure size 360x360 with 1 Axes>"
      ]
     },
     "metadata": {},
     "output_type": "display_data"
    }
   ],
   "source": [
    "sns.set(rc={'figure.figsize':(5,5)})\n",
    "sns.set_style('ticks')\n",
    "\n",
    "gb1 = sns.regplot(y = lst_pr,\n",
    "                  x = test_targets,\n",
    "                  scatter_kws={'color':'blue'},\n",
    "                  line_kws = {'color':'red'})\n",
    "gb1.set_xticks([-14,-12,-10,-8,-6,-4,-2,0,2,4,6,8,10,12,14])\n",
    "gb1.set_yticks([-14,-12,-10,-8,-6,-4,-2,0,2,4,6,8,10,12,14])\n",
    "gb1.set_ylabel('predicted ddG')\n",
    "gb1.set_xlabel('measured ddG')"
   ]
  },
  {
   "cell_type": "code",
   "execution_count": 149,
   "metadata": {},
   "outputs": [
    {
     "data": {
      "text/plain": [
       "Text(0.5, 0, 'measured ddG')"
      ]
     },
     "execution_count": 149,
     "metadata": {},
     "output_type": "execute_result"
    },
    {
     "data": {
      "image/png": "[encoded data removed]",
      "text/plain": [
       "<Figure size 360x360 with 1 Axes>"
      ]
     },
     "metadata": {},
     "output_type": "display_data"
    }
   ],
   "source": [
    "lst_pr_8 = []\n",
    "test_targets_8 = []\n",
    "for i in range(len(lst_pr)):\n",
    "    if test_targets[i] < -8:\n",
    "        continue\n",
    "    else:\n",
    "        lst_pr_8.append(lst_pr[i])\n",
    "        test_targets_8.append(test_targets[i])\n",
    "        \n",
    "sns.set(rc={'figure.figsize':(5,5)})\n",
    "sns.set_style('ticks')\n",
    "\n",
    "gb1 = sns.regplot(y = lst_pr_8,\n",
    "                  x = test_targets_8,\n",
    "                  scatter_kws={'color':'blue'},\n",
    "                  line_kws = {'color':'red'})\n",
    "gb1.set_xticks([-8,-6,-4,-2,0,2,4,6,8])\n",
    "gb1.set_yticks([-8,-6,-4,-2,0,2,4,6,8])\n",
    "gb1.set_ylabel('predicted ddG')\n",
    "gb1.set_xlabel('measured ddG')"
   ]
  },
  {
   "cell_type": "code",
   "execution_count": 150,
   "metadata": {},
   "outputs": [
    {
     "name": "stdout",
     "output_type": "stream",
     "text": [
      "679/679 [==============================] - 0s 69us/step\n",
      "679/679 [==============================] - 0s 62us/step\n",
      "679/679 [==============================] - 0s 63us/step\n",
      "679/679 [==============================] - 0s 61us/step\n",
      "679/679 [==============================] - 0s 84us/step\n",
      "679/679 [==============================] - 0s 63us/step\n",
      "679/679 [==============================] - 0s 63us/step\n",
      "679/679 [==============================] - 0s 63us/step\n",
      "679/679 [==============================] - 0s 60us/step\n",
      "679/679 [==============================] - 0s 70us/step\n",
      "MAE: [1.0471237897872925, 1.0490273237228394, 1.039860725402832, 1.0312297344207764, 1.0243433713912964, 1.048633098602295, 1.06223726272583, 1.0350948572158813, 1.0428553819656372, 1.0473759174346924]\n",
      "RMSE: [1.0232907047471094, 1.0242203415757123, 1.019735567192843, 1.0154947630190794, 1.0120985534571576, 1.024027946190012, 1.0306489157301892, 1.0173961621240553, 1.0212029015649635, 1.0234138560145953]\n",
      "R: [0.5397039143549764, 0.5454392127153349, 0.5525565877012842, 0.5460366682583915, 0.5632746439185902, 0.5408320298229778, 0.5189566568518086, 0.5612684018253591, 0.5434673247952606, 0.5379854478696102]\n"
     ]
    }
   ],
   "source": [
    "K = 10\n",
    "MAE = []\n",
    "RMSE = []\n",
    "R = []\n",
    "for i in range(K):\n",
    "    model = build_model()\n",
    "# Train it on the entirety of the data.\n",
    "    model.fit(train_data, \n",
    "              train_targets,\n",
    "              epochs=60, batch_size=128, verbose=0)\n",
    "    test_mse_score, test_mae_score = model.evaluate(test_data, test_targets)\n",
    "    pr = list(model.predict(test_data))\n",
    "    lst_pr = []\n",
    "    for x in pr:\n",
    "        lst_pr.append(float(x))\n",
    "\n",
    "    MAE.append(test_mae_score)\n",
    "    RMSE.append(np.sqrt(test_mse_score))\n",
    "    R.append(np.corrcoef(lst_pr,test_targets)[0][1])\n",
    "    \n",
    "#print(\"MAE:\",MAE)\n",
    "#print(\"RMSE:\",RMSE)\n",
    "#print(\"R:\",R)"
   ]
  },
  {
   "cell_type": "code",
   "execution_count": 175,
   "metadata": {},
   "outputs": [
    {
     "name": "stdout",
     "output_type": "stream",
     "text": [
      "mean MAE: 1.0427781462669372\n",
      "mean RMSE: 1.0211529711615717\n",
      "mean R: 0.5449520888113593\n"
     ]
    }
   ],
   "source": [
    "print(\"mean MAE:\",np.mean(MAE))\n",
    "print(\"mean RMSE:\",np.mean(RMSE))\n",
    "print(\"mean R:\",np.mean(R))"
   ]
  },
  {
   "cell_type": "code",
   "execution_count": 151,
   "metadata": {},
   "outputs": [],
   "source": [
    "model.save('M3392')"
   ]
  },
  {
   "cell_type": "code",
   "execution_count": 152,
   "metadata": {},
   "outputs": [],
   "source": [
    "from tensorflow import keras\n",
    "model = keras.models.load_model('M3392')"
   ]
  },
  {
   "cell_type": "code",
   "execution_count": 153,
   "metadata": {},
   "outputs": [
    {
     "data": {
      "text/html": [
       "<div>\n",
       "<style scoped>\n",
       "    .dataframe tbody tr th:only-of-type {\n",
       "        vertical-align: middle;\n",
       "    }\n",
       "\n",
       "    .dataframe tbody tr th {\n",
       "        vertical-align: top;\n",
       "    }\n",
       "\n",
       "    .dataframe thead th {\n",
       "        text-align: right;\n",
       "    }\n",
       "</style>\n",
       "<table border=\"1\" class=\"dataframe\">\n",
       "  <thead>\n",
       "    <tr style=\"text-align: right;\">\n",
       "      <th></th>\n",
       "      <th>lable</th>\n",
       "      <th>Q</th>\n",
       "      <th>W</th>\n",
       "      <th>E</th>\n",
       "      <th>R</th>\n",
       "      <th>T</th>\n",
       "      <th>Y</th>\n",
       "      <th>I</th>\n",
       "      <th>P</th>\n",
       "      <th>A</th>\n",
       "      <th>...</th>\n",
       "      <th>H_mut</th>\n",
       "      <th>C_wild</th>\n",
       "      <th>C_mut</th>\n",
       "      <th>O_wild</th>\n",
       "      <th>O_mut</th>\n",
       "      <th>w_mrf_v</th>\n",
       "      <th>m_mrf_v</th>\n",
       "      <th>w_p</th>\n",
       "      <th>m_p</th>\n",
       "      <th>ddG</th>\n",
       "    </tr>\n",
       "  </thead>\n",
       "  <tbody>\n",
       "    <tr>\n",
       "      <th>0</th>\n",
       "      <td>N37P</td>\n",
       "      <td>0</td>\n",
       "      <td>0</td>\n",
       "      <td>0</td>\n",
       "      <td>0</td>\n",
       "      <td>0</td>\n",
       "      <td>0</td>\n",
       "      <td>0</td>\n",
       "      <td>1</td>\n",
       "      <td>0</td>\n",
       "      <td>...</td>\n",
       "      <td>0.12</td>\n",
       "      <td>0</td>\n",
       "      <td>0.0</td>\n",
       "      <td>3.93</td>\n",
       "      <td>5.02</td>\n",
       "      <td>4.018893</td>\n",
       "      <td>-1.461790</td>\n",
       "      <td>0.620690</td>\n",
       "      <td>0.0</td>\n",
       "      <td>-3.694</td>\n",
       "    </tr>\n",
       "    <tr>\n",
       "      <th>1</th>\n",
       "      <td>A20P</td>\n",
       "      <td>0</td>\n",
       "      <td>0</td>\n",
       "      <td>0</td>\n",
       "      <td>0</td>\n",
       "      <td>0</td>\n",
       "      <td>0</td>\n",
       "      <td>0</td>\n",
       "      <td>1</td>\n",
       "      <td>-1</td>\n",
       "      <td>...</td>\n",
       "      <td>0.12</td>\n",
       "      <td>0</td>\n",
       "      <td>0.0</td>\n",
       "      <td>8.76</td>\n",
       "      <td>5.02</td>\n",
       "      <td>5.865249</td>\n",
       "      <td>-0.839895</td>\n",
       "      <td>0.862069</td>\n",
       "      <td>0.0</td>\n",
       "      <td>-3.480</td>\n",
       "    </tr>\n",
       "    <tr>\n",
       "      <th>2</th>\n",
       "      <td>Y33G</td>\n",
       "      <td>0</td>\n",
       "      <td>0</td>\n",
       "      <td>0</td>\n",
       "      <td>0</td>\n",
       "      <td>0</td>\n",
       "      <td>-1</td>\n",
       "      <td>0</td>\n",
       "      <td>0</td>\n",
       "      <td>0</td>\n",
       "      <td>...</td>\n",
       "      <td>0.48</td>\n",
       "      <td>0</td>\n",
       "      <td>0.0</td>\n",
       "      <td>2.91</td>\n",
       "      <td>7.03</td>\n",
       "      <td>3.960331</td>\n",
       "      <td>-1.477268</td>\n",
       "      <td>0.551724</td>\n",
       "      <td>0.0</td>\n",
       "      <td>-3.459</td>\n",
       "    </tr>\n",
       "    <tr>\n",
       "      <th>3</th>\n",
       "      <td>V39D</td>\n",
       "      <td>0</td>\n",
       "      <td>0</td>\n",
       "      <td>0</td>\n",
       "      <td>0</td>\n",
       "      <td>0</td>\n",
       "      <td>0</td>\n",
       "      <td>0</td>\n",
       "      <td>0</td>\n",
       "      <td>0</td>\n",
       "      <td>...</td>\n",
       "      <td>-0.90</td>\n",
       "      <td>0</td>\n",
       "      <td>-1.0</td>\n",
       "      <td>6.73</td>\n",
       "      <td>5.49</td>\n",
       "      <td>4.278831</td>\n",
       "      <td>-1.187516</td>\n",
       "      <td>0.482759</td>\n",
       "      <td>0.0</td>\n",
       "      <td>-3.414</td>\n",
       "    </tr>\n",
       "    <tr>\n",
       "      <th>4</th>\n",
       "      <td>T51D</td>\n",
       "      <td>0</td>\n",
       "      <td>0</td>\n",
       "      <td>0</td>\n",
       "      <td>0</td>\n",
       "      <td>-1</td>\n",
       "      <td>0</td>\n",
       "      <td>0</td>\n",
       "      <td>0</td>\n",
       "      <td>0</td>\n",
       "      <td>...</td>\n",
       "      <td>-0.90</td>\n",
       "      <td>0</td>\n",
       "      <td>-1.0</td>\n",
       "      <td>5.53</td>\n",
       "      <td>5.49</td>\n",
       "      <td>4.822475</td>\n",
       "      <td>-1.227427</td>\n",
       "      <td>0.862069</td>\n",
       "      <td>0.0</td>\n",
       "      <td>-3.311</td>\n",
       "    </tr>\n",
       "  </tbody>\n",
       "</table>\n",
       "<p>5 rows × 34 columns</p>\n",
       "</div>"
      ],
      "text/plain": [
       "  lable  Q  W  E  R  T  Y  I  P  A  ...  H_mut  C_wild  C_mut  O_wild  O_mut  \\\n",
       "0  N37P  0  0  0  0  0  0  0  1  0  ...   0.12       0    0.0    3.93   5.02   \n",
       "1  A20P  0  0  0  0  0  0  0  1 -1  ...   0.12       0    0.0    8.76   5.02   \n",
       "2  Y33G  0  0  0  0  0 -1  0  0  0  ...   0.48       0    0.0    2.91   7.03   \n",
       "3  V39D  0  0  0  0  0  0  0  0  0  ...  -0.90       0   -1.0    6.73   5.49   \n",
       "4  T51D  0  0  0  0 -1  0  0  0  0  ...  -0.90       0   -1.0    5.53   5.49   \n",
       "\n",
       "    w_mrf_v   m_mrf_v       w_p  m_p    ddG  \n",
       "0  4.018893 -1.461790  0.620690  0.0 -3.694  \n",
       "1  5.865249 -0.839895  0.862069  0.0 -3.480  \n",
       "2  3.960331 -1.477268  0.551724  0.0 -3.459  \n",
       "3  4.278831 -1.187516  0.482759  0.0 -3.414  \n",
       "4  4.822475 -1.227427  0.862069  0.0 -3.311  \n",
       "\n",
       "[5 rows x 34 columns]"
      ]
     },
     "execution_count": 153,
     "metadata": {},
     "output_type": "execute_result"
    }
   ],
   "source": [
    "import pandas as pd\n",
    "Gb1 = pd.read_csv(\"Gb1_dataset.csv\")\n",
    "Gb1.head()\n"
   ]
  },
  {
   "cell_type": "code",
   "execution_count": 154,
   "metadata": {},
   "outputs": [],
   "source": [
    "Gb1_data = Gb1.iloc[:,21:33].values\n",
    "Gb1_target = Gb1['ddG'].values"
   ]
  },
  {
   "cell_type": "code",
   "execution_count": 155,
   "metadata": {},
   "outputs": [],
   "source": [
    "#train_data = Gb1_data"
   ]
  },
  {
   "cell_type": "code",
   "execution_count": 156,
   "metadata": {},
   "outputs": [],
   "source": [
    "import numpy as np\n",
    "mean = Gb1_data.mean(axis=0)\n",
    "Gb1_data -= mean\n",
    "std = Gb1_data.std(axis=0)\n",
    "Gb1_data /= std\n"
   ]
  },
  {
   "cell_type": "code",
   "execution_count": 157,
   "metadata": {},
   "outputs": [
    {
     "data": {
      "text/plain": [
       "array([[-0.41192446, -0.75875645, -0.79241636, ..., -0.76509507,\n",
       "         0.39163117, -0.46844957],\n",
       "       [-1.17374768, -0.75875645,  0.86767777, ..., -0.42703302,\n",
       "         1.75413244, -0.46844957],\n",
       "       [ 1.96317147, -2.19586525,  0.44079642, ..., -0.77350924,\n",
       "         0.0023451 , -0.46844957],\n",
       "       ...,\n",
       "       [ 0.31404826,  0.7166024 , -0.7449851 , ...,  0.5646799 ,\n",
       "         0.58627421,  0.20540337],\n",
       "       [-0.35217362,  1.35046027,  0.07320415, ...,  1.13091663,\n",
       "         0.19698814,  0.20540337],\n",
       "       [ 0.31404826,  1.35046027, -0.7449851 , ...,  0.93093418,\n",
       "         0.58627421,  0.20540337]])"
      ]
     },
     "execution_count": 157,
     "metadata": {},
     "output_type": "execute_result"
    }
   ],
   "source": [
    "Gb1_data"
   ]
  },
  {
   "cell_type": "code",
   "execution_count": 193,
   "metadata": {},
   "outputs": [],
   "source": [
    "Gb1_mpr = model.predict(Gb1_data)"
   ]
  },
  {
   "cell_type": "code",
   "execution_count": 194,
   "metadata": {},
   "outputs": [
    {
     "data": {
      "text/plain": [
       "0.5420539212637914"
      ]
     },
     "execution_count": 194,
     "metadata": {},
     "output_type": "execute_result"
    }
   ],
   "source": [
    "Gb1_pr = []\n",
    "for x in Gb1_mpr:\n",
    "    Gb1_pr.append(x[0])\n",
    "    \n",
    "np.corrcoef(Gb1_pr,Gb1_target)[0][1]"
   ]
  },
  {
   "cell_type": "code",
   "execution_count": 195,
   "metadata": {},
   "outputs": [],
   "source": [
    "import matplotlib.pyplot as plt\n",
    "import seaborn as sns"
   ]
  },
  {
   "cell_type": "code",
   "execution_count": 196,
   "metadata": {},
   "outputs": [
    {
     "data": {
      "text/plain": [
       "Text(0.5, 0, 'measured ddG')"
      ]
     },
     "execution_count": 196,
     "metadata": {},
     "output_type": "execute_result"
    },
    {
     "data": {
      "image/png": "[encoded data removed]",
      "text/plain": [
       "<Figure size 360x360 with 1 Axes>"
      ]
     },
     "metadata": {},
     "output_type": "display_data"
    }
   ],
   "source": [
    "sns.set(rc={'figure.figsize':(5,5)})\n",
    "sns.set_style('ticks')\n",
    "\n",
    "gb1 = sns.regplot(y = Gb1_pr,\n",
    "                  x = Gb1_target,\n",
    "                  scatter_kws={'color':'blue'},\n",
    "                  line_kws = {'color':'red'})\n",
    "gb1.set_xticks([-5,-4,-3,-2,-1,0,1,2,3,4,5])\n",
    "gb1.set_yticks([-5,-4,-3,-2,-1,0,1,2,3,4,5])\n",
    "gb1.set_ylabel('predicted ddG')\n",
    "gb1.set_xlabel('measured ddG')"
   ]
  },
  {
   "cell_type": "code",
   "execution_count": null,
   "metadata": {},
   "outputs": [],
   "source": []
  }
 ],
 "metadata": {
  "kernelspec": {
   "display_name": "Python [conda env:TC2] *",
   "language": "python",
   "name": "conda-env-TC2-py"
  },
  "language_info": {
   "codemirror_mode": {
    "name": "ipython",
    "version": 3
   },
   "file_extension": ".py",
   "mimetype": "text/x-python",
   "name": "python",
   "nbconvert_exporter": "python",
   "pygments_lexer": "ipython3",
   "version": "3.7.9"
  }
 },
 "nbformat": 4,
 "nbformat_minor": 4
}
